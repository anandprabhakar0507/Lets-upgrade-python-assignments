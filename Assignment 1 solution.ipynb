{
 "cells": [
  {
   "cell_type": "code",
   "execution_count": 8,
   "metadata": {},
   "outputs": [
    {
     "name": "stdout",
     "output_type": "stream",
     "text": [
      "you provided the list :  [2, 55, [2, 4], 987, [], ['anand', 23], [], [], ['mirzapur', 'kaleen bhaiya', 'khiladi', 786]]\n",
      "Here is new list with no empty list list :  [2, 55, [2, 4], 987, ['anand', 23], ['mirzapur', 'kaleen bhaiya', 'khiladi', 786]] \n",
      "\n",
      "\n",
      "here is frequency of words in list :  [('i', 4), ('am', 2), ('very', 2), ('very', 2), ('happy', 1), ('that', 1), ('i', 4), ('am', 2), ('using', 1), ('python', 2), ('as', 1), ('python', 2), ('is', 1), ('one', 1), ('of', 1), ('the', 1), ('best', 1), ('programming', 1), ('language', 1), ('i', 4), ('i', 4)]\n",
      "Below is new list with duplicates removed : \n",
      "i am very happy that using python as is one of the best programming language \n",
      "\n",
      "\n",
      "A  occurs at index no.  0\n",
      "A  occurs at index no.  2\n",
      "A  occurs at index no.  8\n",
      "A  occurs at index no.  11\n",
      "A  occurs at index no.  13\n",
      "\n",
      "\n",
      "\n"
     ]
    }
   ],
   "source": []
  }
 ],
 "metadata": {
  "kernelspec": {
   "display_name": "Python 3",
   "language": "python",
   "name": "python3"
  },
  "language_info": {
   "codemirror_mode": {
    "name": "ipython",
    "version": 3
   },
   "file_extension": ".py",
   "mimetype": "text/x-python",
   "name": "python",
   "nbconvert_exporter": "python",
   "pygments_lexer": "ipython3",
   "version": "3.7.0"
  }
 },
 "nbformat": 4,
 "nbformat_minor": 4
}
