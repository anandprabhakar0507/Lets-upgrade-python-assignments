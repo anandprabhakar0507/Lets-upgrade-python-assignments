{
 "cells": [
  {
   "cell_type": "code",
   "execution_count": 1,
   "metadata": {},
   "outputs": [
    {
     "name": "stdout",
     "output_type": "stream",
     "text": [
      "Here is required prime numbers:\n",
      "2\n",
      "3\n",
      "5\n",
      "7\n",
      "11\n",
      "13\n",
      "17\n",
      "19\n",
      "23\n",
      "29\n",
      "Factorial of  5  is  120\n",
      "sum of  10 natural number is  55\n"
     ]
    }
   ],
   "source": [
    "#Day2 19 january 2021 Assignment1\n",
    "\n",
    "#que1-Write a Python program to print all Prime numbers in an Interval.\n",
    "starter = 1\n",
    "end = 30\n",
    "print(\"Here is required prime numbers:\")\n",
    "\n",
    "for num in range(starter,end+1):\n",
    "    if num>1:\n",
    "        for i in range(2,num):\n",
    "            if num%i == 0:\n",
    "                break\n",
    "        else:\n",
    "            print(num)\n",
    "\n",
    "            \n",
    "\n",
    "#que2 - Write a Python Program for factorial of a number.\n",
    "factof = 5\n",
    "result =1\n",
    "\n",
    "for i in range(1,factof+1):\n",
    "    result = result * i\n",
    "print(\"Factorial of \",factof,\" is \",result)\n",
    "    \n",
    "    \n",
    "#que3 - Find the sum of n numbers by using the while loop\n",
    "sumupto = 10\n",
    "upto = sumupto\n",
    "result = 0\n",
    "while sumupto > 0:\n",
    "    result += sumupto\n",
    "    sumupto = sumupto-1\n",
    "print(\"sum of \",upto,\"natural number is \",result)\n",
    "    \n"
   ]
  }
 ],
 "metadata": {
  "kernelspec": {
   "display_name": "Python 3",
   "language": "python",
   "name": "python3"
  },
  "language_info": {
   "codemirror_mode": {
    "name": "ipython",
    "version": 3
   },
   "file_extension": ".py",
   "mimetype": "text/x-python",
   "name": "python",
   "nbconvert_exporter": "python",
   "pygments_lexer": "ipython3",
   "version": "3.7.0"
  }
 },
 "nbformat": 4,
 "nbformat_minor": 4
}
