{
 "cells": [
  {
   "cell_type": "code",
   "execution_count": 44,
   "metadata": {},
   "outputs": [
    {
     "name": "stdout",
     "output_type": "stream",
     "text": [
      "#this file is merged from file1 and file2 using python\n",
      "\n",
      "this is file 1 sentence\n",
      "Hello Anand Prabhakar\n",
      "this is file 2 sentence\n",
      "lets upgrade us by learning python\n",
      " \n",
      "All the contents of file1.txt and file2.txt is copied to output.txt file successfuly\n",
      "please open and check the file now\n",
      "\n",
      "\n",
      "Below is the required dictionaries with the keys as list1 elements and valus as list2 elements\n",
      "{1: 'a', 2: 'b', 3: 'c', 4: 'd', 5: 'e'}\n"
     ]
    }
   ],
   "source": [
    "##Day4 21 january 2021 Assignment3\n",
    "#que1 - Write a Python program to merge two files into a third file.\n",
    "file1,file2 = open('file1.txt','r'), open('file2.txt','r')\n",
    "output_file = open(\"output.txt\",'a')\n",
    "f1_data,f2_data = [line for line in file1.readlines()],[line for line in file2.readlines()]\n",
    "all = [\"\\n\"]\n",
    "for i in range(len(f1_data)):\n",
    "    all.append(f1_data[i])\n",
    "all.append(\"\\n\")\n",
    "for i in range(len(f2_data)):\n",
    "    all.append(f2_data[i])   \n",
    "all.append(\"\\n\")\n",
    "#print(''.join(all))\n",
    "output_file.write(''.join(all))\n",
    "file1.close(),file2.close()\n",
    "output_file = open(\"output.txt\",'r')\n",
    "print(output_file.read(),\"\\nAll the contents of file1.txt and file2.txt is copied to output.txt file successfuly\\nplease open and check the file now\")\n",
    "output_file.close()\n",
    "\n",
    "\n",
    "\n",
    "#que2 - Take two lists as input list1 = [1,2,3,4,5] and list2 = [\"a\", \"b\", \"c\", \"d\", \"e\"] From that make a dictionary ouput {1:\"a\", 2:\"b\", 3:\"c\", 4:\"d\", 5:\"e\"}\n",
    "list1 = [1,2,3,4,5]\n",
    "list2 = [\"a\", \"b\", \"c\", \"d\", \"e\"]\n",
    "result = dict(zip(list1,list2))\n",
    "print(\"\\n\\nBelow is the required dictionaries with the keys as list1 elements and valus as list2 elements\")\n",
    "print(result)"
   ]
  }
 ],
 "metadata": {
  "kernelspec": {
   "display_name": "Python 3",
   "language": "python",
   "name": "python3"
  },
  "language_info": {
   "codemirror_mode": {
    "name": "ipython",
    "version": 3
   },
   "file_extension": ".py",
   "mimetype": "text/x-python",
   "name": "python",
   "nbconvert_exporter": "python",
   "pygments_lexer": "ipython3",
   "version": "3.7.0"
  }
 },
 "nbformat": 4,
 "nbformat_minor": 4
}
