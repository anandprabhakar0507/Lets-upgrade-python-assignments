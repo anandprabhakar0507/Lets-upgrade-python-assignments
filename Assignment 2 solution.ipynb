{
 "cells": [
  {
   "cell_type": "code",
   "execution_count": 8,
   "metadata": {},
   "outputs": [
    {
     "name": "stdout",
     "output_type": "stream",
     "text": [
      "you provided the list :  [2, 55, [2, 4], 987, [], ['anand', 23], [], [], ['mirzapur', 'kaleen bhaiya', 'khiladi', 786]]\n",
      "Here is new list with no empty list list :  [2, 55, [2, 4], 987, ['anand', 23], ['mirzapur', 'kaleen bhaiya', 'khiladi', 786]] \n",
      "\n",
      "\n",
      "here is frequency of words in list :  [('i', 4), ('am', 2), ('very', 2), ('very', 2), ('happy', 1), ('that', 1), ('i', 4), ('am', 2), ('using', 1), ('python', 2), ('as', 1), ('python', 2), ('is', 1), ('one', 1), ('of', 1), ('the', 1), ('best', 1), ('programming', 1), ('language', 1), ('i', 4), ('i', 4)]\n",
      "Below is new list with duplicates removed : \n",
      "i am very happy that using python as is one of the best programming language \n",
      "\n",
      "\n",
      "A  occurs at index no.  0\n",
      "A  occurs at index no.  2\n",
      "A  occurs at index no.  8\n",
      "A  occurs at index no.  11\n",
      "A  occurs at index no.  13\n",
      "\n",
      "\n",
      "\n"
     ]
    }
   ],
   "source": [
    "#Day3 20 january 2021 Assignment1\n",
    "'''\n",
    "Question 1\n",
    "Write a Python program to remove empty List from List.\n",
    "Question 2\n",
    "Write a Python program to remove all duplicates words from a given sentence\n",
    "Question 3\n",
    "Write a Python program to find all occurrences of a character in the given string\n",
    "'''\n",
    "#que1 - Write a Python program to remove empty List from List.\n",
    "list_a = [2,55,[2,4], 987, [],['anand',23],[],[],['mirzapur','kaleen bhaiya','khiladi',786]]\n",
    "list_b = []\n",
    "for i in list_a:\n",
    "    if i != []:\n",
    "        list_b.append(i)\n",
    "    else:\n",
    "        0\n",
    "print(\"you provided the list : \",list_a)\n",
    "print(\"Here is new list with no empty list list : \",list_b,\"\\n\\n\")\n",
    "\n",
    "\n",
    "\n",
    "\n",
    "#que2 - Write a Python program to remove all duplicates words from a given sentence\n",
    "words = \"I am very very happy that i am using python as python is one of the best programming language i i\"\n",
    "lst = words.lower().split(\" \")\n",
    "new = []\n",
    "freq = []\n",
    "for i in lst:\n",
    "    if(lst.count(i)==1 and i not in new ):\n",
    "        new.append(i)\n",
    "        freq.append((i,lst.count(i)))\n",
    "    elif(lst.count(i) > 1 and i not in new):\n",
    "        new.append(i)\n",
    "        freq.append((i,lst.count(i)))\n",
    "    else:\n",
    "        freq.append((i,lst.count(i)))\n",
    "\n",
    "print(\"here is frequency of words in list : \",freq)\n",
    "print(\"Below is new list with duplicates removed : \")\n",
    "print(' '.join(new),\"\\n\\n\")\n",
    "\n",
    "\n",
    "\n",
    "\n",
    "#que3 - Write a Python program to find all occurrences of a character in the given string\n",
    "name = \"Anand Prabhakar\"\n",
    "character = \"A\"\n",
    "for i in range(len(name)):\n",
    "    if name[i].upper() == character:\n",
    "        print(character,\" occurs at index no. \",i)\n",
    "print(\"\\n\\n\")"
   ]
  }
 ],
 "metadata": {
  "kernelspec": {
   "display_name": "Python 3",
   "language": "python",
   "name": "python3"
  },
  "language_info": {
   "codemirror_mode": {
    "name": "ipython",
    "version": 3
   },
   "file_extension": ".py",
   "mimetype": "text/x-python",
   "name": "python",
   "nbconvert_exporter": "python",
   "pygments_lexer": "ipython3",
   "version": "3.7.0"
  }
 },
 "nbformat": 4,
 "nbformat_minor": 4
}
